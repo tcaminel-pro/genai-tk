{
 "cells": [
  {
   "cell_type": "code",
   "execution_count": 4,
   "id": "393e3b61",
   "metadata": {},
   "outputs": [
    {
     "name": "stdout",
     "output_type": "stream",
     "text": [
      "The autoreload extension is already loaded. To reload it, use:\n",
      "  %reload_ext autoreload\n"
     ]
    }
   ],
   "source": [
    "# A default setup cell.\n",
    "# It imports environment variables, define 'devtools.debug\" as a buildins, set PYTHONPATH, and code auto-reload\n",
    "# Copy it in other Notebooks\n",
    "\n",
    "\n",
    "%load_ext autoreload\n",
    "%autoreload 2\n",
    "%reset -f\n",
    "\n",
    "\n",
    "import os\n",
    "import sys\n",
    "\n",
    "from devtools import debug  # noqa: F401  # noqa: F811\n",
    "from dotenv import load_dotenv\n",
    "from rich import print  # noqa: F401\n",
    "\n",
    "assert load_dotenv(verbose=True)\n",
    "\n",
    "sys.path.append(\".\")"
   ]
  },
  {
   "cell_type": "code",
   "execution_count": 5,
   "id": "124c7c0a",
   "metadata": {},
   "outputs": [
    {
     "data": {
      "text/html": [
       "<pre style=\"white-space:pre;overflow-x:auto;line-height:normal;font-family:Menlo,'DejaVu Sans Mono',consolas,'Courier New',monospace\"><span style=\"color: #800080; text-decoration-color: #800080\">/home/tcl/prj/genai-tk/config/basic/providers/</span><span style=\"color: #ff00ff; text-decoration-color: #ff00ff\">llm.yaml</span>\n",
       "</pre>\n"
      ],
      "text/plain": [
       "\u001b[35m/home/tcl/prj/genai-tk/config/basic/providers/\u001b[0m\u001b[95mllm.yaml\u001b[0m\n"
      ]
     },
     "metadata": {},
     "output_type": "display_data"
    },
    {
     "data": {
      "text/html": [
       "<pre style=\"white-space:pre;overflow-x:auto;line-height:normal;font-family:Menlo,'DejaVu Sans Mono',consolas,'Courier New',monospace\"><span style=\"color: #800080; text-decoration-color: #800080\">/home/tcl/prj/genai-tk/config/</span><span style=\"color: #ff00ff; text-decoration-color: #ff00ff\">basic</span>\n",
       "</pre>\n"
      ],
      "text/plain": [
       "\u001b[35m/home/tcl/prj/genai-tk/config/\u001b[0m\u001b[95mbasic\u001b[0m\n"
      ]
     },
     "metadata": {},
     "output_type": "display_data"
    }
   ],
   "source": [
    "# quick test\n",
    "from genai_tk.utils.config_mngr import global_config, global_config_reload\n",
    "\n",
    "global_config_reload()\n",
    "print(global_config().get(\"llm.list\"))\n",
    "print(global_config().get(\"paths.config\"))"
   ]
  }
 ],
 "metadata": {
  "kernelspec": {
   "display_name": "genai-bp (3.12.3)",
   "language": "python",
   "name": "python3"
  },
  "language_info": {
   "codemirror_mode": {
    "name": "ipython",
    "version": 3
   },
   "file_extension": ".py",
   "mimetype": "text/x-python",
   "name": "python",
   "nbconvert_exporter": "python",
   "pygments_lexer": "ipython3",
   "version": "3.12.3"
  }
 },
 "nbformat": 4,
 "nbformat_minor": 5
}
